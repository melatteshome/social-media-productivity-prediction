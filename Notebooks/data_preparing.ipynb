{
 "cells": [
  {
   "cell_type": "markdown",
   "id": "b7c5f526",
   "metadata": {},
   "source": [
    "# Data Prep"
   ]
  },
  {
   "cell_type": "code",
   "execution_count": 24,
   "id": "873d43c8",
   "metadata": {},
   "outputs": [],
   "source": [
    "import pandas as pd \n",
    "import numpy as np\n",
    "import os"
   ]
  },
  {
   "cell_type": "code",
   "execution_count": 25,
   "id": "bd6a5e7b",
   "metadata": {},
   "outputs": [],
   "source": [
    "os.chdir('..')"
   ]
  },
  {
   "cell_type": "code",
   "execution_count": 26,
   "id": "f1a65caf",
   "metadata": {},
   "outputs": [],
   "source": [
    "from src.data_prep import standardize_column_names , missing_report , impute_missing , show_outliers , fix_outliers , convert_columns_to_numeric\n",
    "from db.db_connection import connect_db , close_db \n",
    "from db.db_processes import fetch_all , create_table , push_dataframe"
   ]
  },
  {
   "cell_type": "code",
   "execution_count": 27,
   "id": "036e3e04",
   "metadata": {},
   "outputs": [
    {
     "name": "stdout",
     "output_type": "stream",
     "text": [
      "Connected to Postgres!\n"
     ]
    }
   ],
   "source": [
    "# connect to the database to start \n",
    "conn =  connect_db()"
   ]
  },
  {
   "cell_type": "code",
   "execution_count": 28,
   "id": "2e131528",
   "metadata": {},
   "outputs": [],
   "source": [
    "# fetch all table data \n",
    "data = fetch_all(conn=conn , table_name= 'social_media_users')\n"
   ]
  },
  {
   "cell_type": "code",
   "execution_count": 29,
   "id": "49ec99de",
   "metadata": {},
   "outputs": [
    {
     "data": {
      "text/html": [
       "<div>\n",
       "<style scoped>\n",
       "    .dataframe tbody tr th:only-of-type {\n",
       "        vertical-align: middle;\n",
       "    }\n",
       "\n",
       "    .dataframe tbody tr th {\n",
       "        vertical-align: top;\n",
       "    }\n",
       "\n",
       "    .dataframe thead th {\n",
       "        text-align: right;\n",
       "    }\n",
       "</style>\n",
       "<table border=\"1\" class=\"dataframe\">\n",
       "  <thead>\n",
       "    <tr style=\"text-align: right;\">\n",
       "      <th></th>\n",
       "      <th>age</th>\n",
       "      <th>gender</th>\n",
       "      <th>job_type</th>\n",
       "      <th>daily_social_media_time</th>\n",
       "      <th>social_platform_preference</th>\n",
       "      <th>number_of_notifications</th>\n",
       "      <th>work_hours_per_day</th>\n",
       "      <th>perceived_productivity_score</th>\n",
       "      <th>actual_productivity_score</th>\n",
       "      <th>stress_level</th>\n",
       "      <th>sleep_hours</th>\n",
       "      <th>screen_time_before_sleep</th>\n",
       "      <th>breaks_during_work</th>\n",
       "      <th>uses_focus_apps</th>\n",
       "      <th>has_digital_wellbeing_enabled</th>\n",
       "      <th>coffee_consumption_per_day</th>\n",
       "      <th>days_feeling_burnout_per_month</th>\n",
       "      <th>weekly_offline_hours</th>\n",
       "      <th>job_satisfaction_score</th>\n",
       "    </tr>\n",
       "  </thead>\n",
       "  <tbody>\n",
       "    <tr>\n",
       "      <th>0</th>\n",
       "      <td>56</td>\n",
       "      <td>Male</td>\n",
       "      <td>Unemployed</td>\n",
       "      <td>4.1809</td>\n",
       "      <td>Facebook</td>\n",
       "      <td>61</td>\n",
       "      <td>6.7536</td>\n",
       "      <td>8.0405</td>\n",
       "      <td>7.2916</td>\n",
       "      <td>4.0</td>\n",
       "      <td>5.1165</td>\n",
       "      <td>0.4191</td>\n",
       "      <td>8</td>\n",
       "      <td>False</td>\n",
       "      <td>False</td>\n",
       "      <td>4</td>\n",
       "      <td>11</td>\n",
       "      <td>21.9271</td>\n",
       "      <td>6.3367</td>\n",
       "    </tr>\n",
       "    <tr>\n",
       "      <th>1</th>\n",
       "      <td>46</td>\n",
       "      <td>Male</td>\n",
       "      <td>Health</td>\n",
       "      <td>3.2496</td>\n",
       "      <td>Twitter</td>\n",
       "      <td>59</td>\n",
       "      <td>9.1693</td>\n",
       "      <td>5.0634</td>\n",
       "      <td>5.1651</td>\n",
       "      <td>7.0</td>\n",
       "      <td>5.1039</td>\n",
       "      <td>0.6715</td>\n",
       "      <td>7</td>\n",
       "      <td>True</td>\n",
       "      <td>True</td>\n",
       "      <td>2</td>\n",
       "      <td>25</td>\n",
       "      <td>0.0000</td>\n",
       "      <td>3.4124</td>\n",
       "    </tr>\n",
       "    <tr>\n",
       "      <th>2</th>\n",
       "      <td>32</td>\n",
       "      <td>Male</td>\n",
       "      <td>Finance</td>\n",
       "      <td>None</td>\n",
       "      <td>Twitter</td>\n",
       "      <td>57</td>\n",
       "      <td>7.9110</td>\n",
       "      <td>3.8618</td>\n",
       "      <td>3.4741</td>\n",
       "      <td>4.0</td>\n",
       "      <td>8.5832</td>\n",
       "      <td>0.6244</td>\n",
       "      <td>0</td>\n",
       "      <td>True</td>\n",
       "      <td>False</td>\n",
       "      <td>3</td>\n",
       "      <td>17</td>\n",
       "      <td>10.3220</td>\n",
       "      <td>2.4749</td>\n",
       "    </tr>\n",
       "    <tr>\n",
       "      <th>3</th>\n",
       "      <td>60</td>\n",
       "      <td>Female</td>\n",
       "      <td>Unemployed</td>\n",
       "      <td>None</td>\n",
       "      <td>Facebook</td>\n",
       "      <td>59</td>\n",
       "      <td>6.3550</td>\n",
       "      <td>2.9163</td>\n",
       "      <td>1.7749</td>\n",
       "      <td>6.0</td>\n",
       "      <td>6.0530</td>\n",
       "      <td>1.2045</td>\n",
       "      <td>1</td>\n",
       "      <td>False</td>\n",
       "      <td>False</td>\n",
       "      <td>0</td>\n",
       "      <td>4</td>\n",
       "      <td>23.8766</td>\n",
       "      <td>1.7337</td>\n",
       "    </tr>\n",
       "    <tr>\n",
       "      <th>4</th>\n",
       "      <td>25</td>\n",
       "      <td>Male</td>\n",
       "      <td>IT</td>\n",
       "      <td>None</td>\n",
       "      <td>Telegram</td>\n",
       "      <td>66</td>\n",
       "      <td>6.2141</td>\n",
       "      <td>8.8688</td>\n",
       "      <td>None</td>\n",
       "      <td>7.0</td>\n",
       "      <td>5.4057</td>\n",
       "      <td>1.8763</td>\n",
       "      <td>1</td>\n",
       "      <td>False</td>\n",
       "      <td>True</td>\n",
       "      <td>1</td>\n",
       "      <td>30</td>\n",
       "      <td>10.6535</td>\n",
       "      <td>9.6931</td>\n",
       "    </tr>\n",
       "  </tbody>\n",
       "</table>\n",
       "</div>"
      ],
      "text/plain": [
       "   age  gender    job_type daily_social_media_time social_platform_preference  \\\n",
       "0   56    Male  Unemployed                  4.1809                   Facebook   \n",
       "1   46    Male      Health                  3.2496                    Twitter   \n",
       "2   32    Male     Finance                    None                    Twitter   \n",
       "3   60  Female  Unemployed                    None                   Facebook   \n",
       "4   25    Male          IT                    None                   Telegram   \n",
       "\n",
       "   number_of_notifications work_hours_per_day perceived_productivity_score  \\\n",
       "0                       61             6.7536                       8.0405   \n",
       "1                       59             9.1693                       5.0634   \n",
       "2                       57             7.9110                       3.8618   \n",
       "3                       59             6.3550                       2.9163   \n",
       "4                       66             6.2141                       8.8688   \n",
       "\n",
       "  actual_productivity_score stress_level sleep_hours screen_time_before_sleep  \\\n",
       "0                    7.2916          4.0      5.1165                   0.4191   \n",
       "1                    5.1651          7.0      5.1039                   0.6715   \n",
       "2                    3.4741          4.0      8.5832                   0.6244   \n",
       "3                    1.7749          6.0      6.0530                   1.2045   \n",
       "4                      None          7.0      5.4057                   1.8763   \n",
       "\n",
       "   breaks_during_work  uses_focus_apps  has_digital_wellbeing_enabled  \\\n",
       "0                   8            False                          False   \n",
       "1                   7             True                           True   \n",
       "2                   0             True                          False   \n",
       "3                   1            False                          False   \n",
       "4                   1            False                           True   \n",
       "\n",
       "   coffee_consumption_per_day  days_feeling_burnout_per_month  \\\n",
       "0                           4                              11   \n",
       "1                           2                              25   \n",
       "2                           3                              17   \n",
       "3                           0                               4   \n",
       "4                           1                              30   \n",
       "\n",
       "  weekly_offline_hours job_satisfaction_score  \n",
       "0              21.9271                 6.3367  \n",
       "1               0.0000                 3.4124  \n",
       "2              10.3220                 2.4749  \n",
       "3              23.8766                 1.7337  \n",
       "4              10.6535                 9.6931  "
      ]
     },
     "execution_count": 29,
     "metadata": {},
     "output_type": "execute_result"
    }
   ],
   "source": [
    "data.head()"
   ]
  },
  {
   "cell_type": "code",
   "execution_count": 30,
   "id": "ba3d5338",
   "metadata": {},
   "outputs": [],
   "source": [
    "# standardize column name \n",
    "standardized_data = standardize_column_names(df= data)"
   ]
  },
  {
   "cell_type": "code",
   "execution_count": 31,
   "id": "3f175614",
   "metadata": {},
   "outputs": [
    {
     "data": {
      "text/html": [
       "<div>\n",
       "<style scoped>\n",
       "    .dataframe tbody tr th:only-of-type {\n",
       "        vertical-align: middle;\n",
       "    }\n",
       "\n",
       "    .dataframe tbody tr th {\n",
       "        vertical-align: top;\n",
       "    }\n",
       "\n",
       "    .dataframe thead th {\n",
       "        text-align: right;\n",
       "    }\n",
       "</style>\n",
       "<table border=\"1\" class=\"dataframe\">\n",
       "  <thead>\n",
       "    <tr style=\"text-align: right;\">\n",
       "      <th></th>\n",
       "      <th>n_missing</th>\n",
       "      <th>p_missing</th>\n",
       "    </tr>\n",
       "  </thead>\n",
       "  <tbody>\n",
       "    <tr>\n",
       "      <th>daily_social_media_time</th>\n",
       "      <td>2765</td>\n",
       "      <td>0.092</td>\n",
       "    </tr>\n",
       "    <tr>\n",
       "      <th>job_satisfaction_score</th>\n",
       "      <td>2730</td>\n",
       "      <td>0.091</td>\n",
       "    </tr>\n",
       "    <tr>\n",
       "      <th>sleep_hours</th>\n",
       "      <td>2598</td>\n",
       "      <td>0.087</td>\n",
       "    </tr>\n",
       "    <tr>\n",
       "      <th>actual_productivity_score</th>\n",
       "      <td>2365</td>\n",
       "      <td>0.079</td>\n",
       "    </tr>\n",
       "    <tr>\n",
       "      <th>screen_time_before_sleep</th>\n",
       "      <td>2211</td>\n",
       "      <td>0.074</td>\n",
       "    </tr>\n",
       "    <tr>\n",
       "      <th>stress_level</th>\n",
       "      <td>1904</td>\n",
       "      <td>0.063</td>\n",
       "    </tr>\n",
       "    <tr>\n",
       "      <th>perceived_productivity_score</th>\n",
       "      <td>1614</td>\n",
       "      <td>0.054</td>\n",
       "    </tr>\n",
       "    <tr>\n",
       "      <th>job_type</th>\n",
       "      <td>0</td>\n",
       "      <td>0.000</td>\n",
       "    </tr>\n",
       "    <tr>\n",
       "      <th>gender</th>\n",
       "      <td>0</td>\n",
       "      <td>0.000</td>\n",
       "    </tr>\n",
       "    <tr>\n",
       "      <th>age</th>\n",
       "      <td>0</td>\n",
       "      <td>0.000</td>\n",
       "    </tr>\n",
       "    <tr>\n",
       "      <th>work_hours_per_day</th>\n",
       "      <td>0</td>\n",
       "      <td>0.000</td>\n",
       "    </tr>\n",
       "    <tr>\n",
       "      <th>number_of_notifications</th>\n",
       "      <td>0</td>\n",
       "      <td>0.000</td>\n",
       "    </tr>\n",
       "    <tr>\n",
       "      <th>social_platform_preference</th>\n",
       "      <td>0</td>\n",
       "      <td>0.000</td>\n",
       "    </tr>\n",
       "    <tr>\n",
       "      <th>uses_focus_apps</th>\n",
       "      <td>0</td>\n",
       "      <td>0.000</td>\n",
       "    </tr>\n",
       "    <tr>\n",
       "      <th>breaks_during_work</th>\n",
       "      <td>0</td>\n",
       "      <td>0.000</td>\n",
       "    </tr>\n",
       "    <tr>\n",
       "      <th>has_digital_wellbeing_enabled</th>\n",
       "      <td>0</td>\n",
       "      <td>0.000</td>\n",
       "    </tr>\n",
       "    <tr>\n",
       "      <th>coffee_consumption_per_day</th>\n",
       "      <td>0</td>\n",
       "      <td>0.000</td>\n",
       "    </tr>\n",
       "    <tr>\n",
       "      <th>days_feeling_burnout_per_month</th>\n",
       "      <td>0</td>\n",
       "      <td>0.000</td>\n",
       "    </tr>\n",
       "    <tr>\n",
       "      <th>weekly_offline_hours</th>\n",
       "      <td>0</td>\n",
       "      <td>0.000</td>\n",
       "    </tr>\n",
       "  </tbody>\n",
       "</table>\n",
       "</div>"
      ],
      "text/plain": [
       "                                n_missing  p_missing\n",
       "daily_social_media_time              2765      0.092\n",
       "job_satisfaction_score               2730      0.091\n",
       "sleep_hours                          2598      0.087\n",
       "actual_productivity_score            2365      0.079\n",
       "screen_time_before_sleep             2211      0.074\n",
       "stress_level                         1904      0.063\n",
       "perceived_productivity_score         1614      0.054\n",
       "job_type                                0      0.000\n",
       "gender                                  0      0.000\n",
       "age                                     0      0.000\n",
       "work_hours_per_day                      0      0.000\n",
       "number_of_notifications                 0      0.000\n",
       "social_platform_preference              0      0.000\n",
       "uses_focus_apps                         0      0.000\n",
       "breaks_during_work                      0      0.000\n",
       "has_digital_wellbeing_enabled           0      0.000\n",
       "coffee_consumption_per_day              0      0.000\n",
       "days_feeling_burnout_per_month          0      0.000\n",
       "weekly_offline_hours                    0      0.000"
      ]
     },
     "execution_count": 31,
     "metadata": {},
     "output_type": "execute_result"
    }
   ],
   "source": [
    "# missing value report \n",
    "\n",
    "missing_data_report= missing_report(df= standardized_data)\n",
    "missing_data_report  "
   ]
  },
  {
   "cell_type": "code",
   "execution_count": 32,
   "id": "64db9618",
   "metadata": {},
   "outputs": [
    {
     "name": "stderr",
     "output_type": "stream",
     "text": [
      "/home/mullan/Documents/Projects DA/social-media-productivity-prediction/src/data_prep.py:86: FutureWarning: A value is trying to be set on a copy of a DataFrame or Series through chained assignment using an inplace method.\n",
      "The behavior will change in pandas 3.0. This inplace method will never work because the intermediate object on which we are setting values always behaves as a copy.\n",
      "\n",
      "For example, when doing 'df[col].method(value, inplace=True)', try using 'df.method({col: value}, inplace=True)' or df[col] = df[col].method(value) instead, to perform the operation inplace on the original object.\n",
      "\n",
      "\n",
      "  df_target[col].fillna(val, inplace=True)\n"
     ]
    }
   ],
   "source": [
    "# handle missing data\n",
    "cleaned_data = impute_missing(df= standardized_data)"
   ]
  },
  {
   "cell_type": "code",
   "execution_count": 33,
   "id": "e0839613",
   "metadata": {},
   "outputs": [
    {
     "data": {
      "text/html": [
       "<div>\n",
       "<style scoped>\n",
       "    .dataframe tbody tr th:only-of-type {\n",
       "        vertical-align: middle;\n",
       "    }\n",
       "\n",
       "    .dataframe tbody tr th {\n",
       "        vertical-align: top;\n",
       "    }\n",
       "\n",
       "    .dataframe thead th {\n",
       "        text-align: right;\n",
       "    }\n",
       "</style>\n",
       "<table border=\"1\" class=\"dataframe\">\n",
       "  <thead>\n",
       "    <tr style=\"text-align: right;\">\n",
       "      <th></th>\n",
       "      <th>n_missing</th>\n",
       "      <th>p_missing</th>\n",
       "    </tr>\n",
       "  </thead>\n",
       "  <tbody>\n",
       "    <tr>\n",
       "      <th>age</th>\n",
       "      <td>0</td>\n",
       "      <td>0.0</td>\n",
       "    </tr>\n",
       "    <tr>\n",
       "      <th>gender</th>\n",
       "      <td>0</td>\n",
       "      <td>0.0</td>\n",
       "    </tr>\n",
       "    <tr>\n",
       "      <th>job_type</th>\n",
       "      <td>0</td>\n",
       "      <td>0.0</td>\n",
       "    </tr>\n",
       "    <tr>\n",
       "      <th>daily_social_media_time</th>\n",
       "      <td>0</td>\n",
       "      <td>0.0</td>\n",
       "    </tr>\n",
       "    <tr>\n",
       "      <th>social_platform_preference</th>\n",
       "      <td>0</td>\n",
       "      <td>0.0</td>\n",
       "    </tr>\n",
       "    <tr>\n",
       "      <th>number_of_notifications</th>\n",
       "      <td>0</td>\n",
       "      <td>0.0</td>\n",
       "    </tr>\n",
       "    <tr>\n",
       "      <th>work_hours_per_day</th>\n",
       "      <td>0</td>\n",
       "      <td>0.0</td>\n",
       "    </tr>\n",
       "    <tr>\n",
       "      <th>perceived_productivity_score</th>\n",
       "      <td>0</td>\n",
       "      <td>0.0</td>\n",
       "    </tr>\n",
       "    <tr>\n",
       "      <th>actual_productivity_score</th>\n",
       "      <td>0</td>\n",
       "      <td>0.0</td>\n",
       "    </tr>\n",
       "    <tr>\n",
       "      <th>stress_level</th>\n",
       "      <td>0</td>\n",
       "      <td>0.0</td>\n",
       "    </tr>\n",
       "    <tr>\n",
       "      <th>sleep_hours</th>\n",
       "      <td>0</td>\n",
       "      <td>0.0</td>\n",
       "    </tr>\n",
       "    <tr>\n",
       "      <th>screen_time_before_sleep</th>\n",
       "      <td>0</td>\n",
       "      <td>0.0</td>\n",
       "    </tr>\n",
       "    <tr>\n",
       "      <th>breaks_during_work</th>\n",
       "      <td>0</td>\n",
       "      <td>0.0</td>\n",
       "    </tr>\n",
       "    <tr>\n",
       "      <th>uses_focus_apps</th>\n",
       "      <td>0</td>\n",
       "      <td>0.0</td>\n",
       "    </tr>\n",
       "    <tr>\n",
       "      <th>has_digital_wellbeing_enabled</th>\n",
       "      <td>0</td>\n",
       "      <td>0.0</td>\n",
       "    </tr>\n",
       "    <tr>\n",
       "      <th>coffee_consumption_per_day</th>\n",
       "      <td>0</td>\n",
       "      <td>0.0</td>\n",
       "    </tr>\n",
       "    <tr>\n",
       "      <th>days_feeling_burnout_per_month</th>\n",
       "      <td>0</td>\n",
       "      <td>0.0</td>\n",
       "    </tr>\n",
       "    <tr>\n",
       "      <th>weekly_offline_hours</th>\n",
       "      <td>0</td>\n",
       "      <td>0.0</td>\n",
       "    </tr>\n",
       "    <tr>\n",
       "      <th>job_satisfaction_score</th>\n",
       "      <td>0</td>\n",
       "      <td>0.0</td>\n",
       "    </tr>\n",
       "  </tbody>\n",
       "</table>\n",
       "</div>"
      ],
      "text/plain": [
       "                                n_missing  p_missing\n",
       "age                                     0        0.0\n",
       "gender                                  0        0.0\n",
       "job_type                                0        0.0\n",
       "daily_social_media_time                 0        0.0\n",
       "social_platform_preference              0        0.0\n",
       "number_of_notifications                 0        0.0\n",
       "work_hours_per_day                      0        0.0\n",
       "perceived_productivity_score            0        0.0\n",
       "actual_productivity_score               0        0.0\n",
       "stress_level                            0        0.0\n",
       "sleep_hours                             0        0.0\n",
       "screen_time_before_sleep                0        0.0\n",
       "breaks_during_work                      0        0.0\n",
       "uses_focus_apps                         0        0.0\n",
       "has_digital_wellbeing_enabled           0        0.0\n",
       "coffee_consumption_per_day              0        0.0\n",
       "days_feeling_burnout_per_month          0        0.0\n",
       "weekly_offline_hours                    0        0.0\n",
       "job_satisfaction_score                  0        0.0"
      ]
     },
     "execution_count": 33,
     "metadata": {},
     "output_type": "execute_result"
    }
   ],
   "source": [
    "check_for_missing_values = missing_report(df=cleaned_data)\n",
    "check_for_missing_values"
   ]
  },
  {
   "cell_type": "code",
   "execution_count": 34,
   "id": "b748bb93",
   "metadata": {},
   "outputs": [
    {
     "data": {
      "text/plain": [
       "age                                int64\n",
       "gender                            object\n",
       "job_type                          object\n",
       "daily_social_media_time           object\n",
       "social_platform_preference        object\n",
       "number_of_notifications            int64\n",
       "work_hours_per_day                object\n",
       "perceived_productivity_score      object\n",
       "actual_productivity_score         object\n",
       "stress_level                      object\n",
       "sleep_hours                       object\n",
       "screen_time_before_sleep          object\n",
       "breaks_during_work                 int64\n",
       "uses_focus_apps                     bool\n",
       "has_digital_wellbeing_enabled       bool\n",
       "coffee_consumption_per_day         int64\n",
       "days_feeling_burnout_per_month     int64\n",
       "weekly_offline_hours              object\n",
       "job_satisfaction_score            object\n",
       "dtype: object"
      ]
     },
     "execution_count": 34,
     "metadata": {},
     "output_type": "execute_result"
    }
   ],
   "source": [
    "cleaned_data.dtypes"
   ]
  },
  {
   "cell_type": "code",
   "execution_count": 35,
   "id": "d1acdc6c",
   "metadata": {},
   "outputs": [
    {
     "data": {
      "text/plain": [
       "age                                 int64\n",
       "gender                             object\n",
       "job_type                           object\n",
       "daily_social_media_time           float64\n",
       "social_platform_preference         object\n",
       "number_of_notifications             int64\n",
       "work_hours_per_day                float64\n",
       "perceived_productivity_score      float64\n",
       "actual_productivity_score         float64\n",
       "stress_level                      float64\n",
       "sleep_hours                       float64\n",
       "screen_time_before_sleep          float64\n",
       "breaks_during_work                  int64\n",
       "uses_focus_apps                      bool\n",
       "has_digital_wellbeing_enabled        bool\n",
       "coffee_consumption_per_day          int64\n",
       "days_feeling_burnout_per_month      int64\n",
       "weekly_offline_hours              float64\n",
       "job_satisfaction_score            float64\n",
       "dtype: object"
      ]
     },
     "execution_count": 35,
     "metadata": {},
     "output_type": "execute_result"
    }
   ],
   "source": [
    "#change the data type of some columns to numeric \n",
    "\n",
    "cleaned_data= convert_columns_to_numeric(df= cleaned_data , columns= ['daily_social_media_time','number_of_notifications','breaks_during_work','work_hours_per_day', 'weekly_offline_hours', 'sleep_hours','coffee_consumption_per_day','days_feeling_burnout_per_month','job_satisfaction_score','stress_level','actual_productivity_score','perceived_productivity_score','screen_time_before_sleep',])\n",
    "cleaned_data.dtypes"
   ]
  },
  {
   "cell_type": "markdown",
   "id": "94400a75",
   "metadata": {},
   "source": [
    "### check for outliers using box plots"
   ]
  },
  {
   "cell_type": "code",
   "execution_count": 36,
   "id": "4f67cebd",
   "metadata": {},
   "outputs": [
    {
     "data": {
      "image/png": "[encoded data removed]",
      "text/plain": [
       "<Figure size 400x150 with 1 Axes>"
      ]
     },
     "metadata": {},
     "output_type": "display_data"
    },
    {
     "data": {
      "image/png": "[encoded data removed]",
      "text/plain": [
       "<Figure size 400x150 with 1 Axes>"
      ]
     },
     "metadata": {},
     "output_type": "display_data"
    },
    {
     "data": {
      "image/png": "[encoded data removed]",
      "text/plain": [
       "<Figure size 400x150 with 1 Axes>"
      ]
     },
     "metadata": {},
     "output_type": "display_data"
    },
    {
     "data": {
      "image/png": "[encoded data removed]",
      "text/plain": [
       "<Figure size 400x150 with 1 Axes>"
      ]
     },
     "metadata": {},
     "output_type": "display_data"
    },
    {
     "data": {
      "image/png": "[encoded data removed]",
      "text/plain": [
       "<Figure size 400x150 with 1 Axes>"
      ]
     },
     "metadata": {},
     "output_type": "display_data"
    },
    {
     "data": {
      "image/png": "[encoded data removed]",
      "text/plain": [
       "<Figure size 400x150 with 1 Axes>"
      ]
     },
     "metadata": {},
     "output_type": "display_data"
    },
    {
     "data": {
      "image/png": "[encoded data removed]",
      "text/plain": [
       "<Figure size 400x150 with 1 Axes>"
      ]
     },
     "metadata": {},
     "output_type": "display_data"
    },
    {
     "data": {
      "image/png": "[encoded data removed]",
      "text/plain": [
       "<Figure size 400x150 with 1 Axes>"
      ]
     },
     "metadata": {},
     "output_type": "display_data"
    },
    {
     "data": {
      "image/png": "[encoded data removed]",
      "text/plain": [
       "<Figure size 400x150 with 1 Axes>"
      ]
     },
     "metadata": {},
     "output_type": "display_data"
    },
    {
     "data": {
      "image/png": "[encoded data removed]",
      "text/plain": [
       "<Figure size 400x150 with 1 Axes>"
      ]
     },
     "metadata": {},
     "output_type": "display_data"
    },
    {
     "data": {
      "text/plain": [
       "Series([], Name: days_feeling_burnout_per_month, dtype: int64)"
      ]
     },
     "execution_count": 36,
     "metadata": {},
     "output_type": "execute_result"
    }
   ],
   "source": [
    "show_outliers(series=cleaned_data['age'] ,title=\"age distribution\",)\n",
    "show_outliers(series= cleaned_data['screen_time_before_sleep'] ,title=\"screen time before sleep distribution\",)\n",
    "show_outliers(series=cleaned_data['number_of_notifications'] , title= \"number of notification distribution\")\n",
    "show_outliers(series= cleaned_data['breaks_during_work'] , title=\"breaks during work distribution\",)\n",
    "show_outliers(series= cleaned_data['daily_social_media_time'] , title=\"daily social media time distribution\",)\n",
    "show_outliers(series= cleaned_data['work_hours_per_day'], title=\"work hours per day distribution\",)\n",
    "show_outliers(series= cleaned_data['weekly_offline_hours'] , title=\"weekly offline hours distribution\",)\n",
    "show_outliers(series= cleaned_data['sleep_hours'] , title=\"sleep hours distribution\",)\n",
    "show_outliers(series= cleaned_data['coffee_consumption_per_day'] , title=\"coffee consumption per day distribution\",)\n",
    "show_outliers(series= cleaned_data['days_feeling_burnout_per_month'] , title=\"days of feeling burnout per month distribution\",)"
   ]
  },
  {
   "cell_type": "markdown",
   "id": "25655f6f",
   "metadata": {},
   "source": [
    "# fix outliers \n",
    "#### - the outliers found in the daily social media time distribution are assumed to be genuine behaviours of our users so we won't be imputing them or removing them , they will be kept as they are. \n",
    "#### - the outliers found in the work ours per day will be kept as it is assumed genuine, for the data set includes students who have no real working hours.\n",
    "#### - the outliers in the `coffee_consumption_per_day` columns will be dropped as they have no significance on out analysis becasuse they are very numbered \n"
   ]
  },
  {
   "cell_type": "code",
   "execution_count": 42,
   "id": "64fe8a57",
   "metadata": {},
   "outputs": [],
   "source": [
    "# fix outliers \n",
    "fixed_outlier_data = fix_outliers( df=cleaned_data, column= 'coffee_consumption_per_day', method='remove')\n",
    "fixed_outlier_data =  fix_outliers(df= fixed_outlier_data, column='weekly_offline_hours', method='median')"
   ]
  },
  {
   "cell_type": "code",
   "execution_count": 38,
   "id": "1ee7affa",
   "metadata": {},
   "outputs": [
    {
     "data": {
      "image/png": "[encoded data removed]",
      "text/plain": [
       "<Figure size 400x150 with 1 Axes>"
      ]
     },
     "metadata": {},
     "output_type": "display_data"
    },
    {
     "data": {
      "image/png": "[encoded data removed]",
      "text/plain": [
       "<Figure size 400x150 with 1 Axes>"
      ]
     },
     "metadata": {},
     "output_type": "display_data"
    },
    {
     "data": {
      "text/plain": [
       "34       31.2168\n",
       "7961     31.2396\n",
       "9291     31.4168\n",
       "21634    31.4339\n",
       "23038    31.2448\n",
       "28068    31.2415\n",
       "Name: weekly_offline_hours, dtype: float64"
      ]
     },
     "execution_count": 38,
     "metadata": {},
     "output_type": "execute_result"
    }
   ],
   "source": [
    "# test again to make sure the outlier fix has taken place \n",
    "show_outliers(series= pd.to_numeric(fixed_outlier_data['coffee_consumption_per_day']) , title=\"coffee consumption per day distribution\",)\n",
    "show_outliers(series= fixed_outlier_data['weekly_offline_hours'], )"
   ]
  },
  {
   "cell_type": "code",
   "execution_count": 39,
   "id": "21781d8f",
   "metadata": {},
   "outputs": [
    {
     "name": "stdout",
     "output_type": "stream",
     "text": [
      "Table 'Cleaned_social_media_data' created\n"
     ]
    }
   ],
   "source": [
    "# store the cleaned data to a new table in the database \n",
    "create_table(\n",
    "    columns= {    \n",
    "    \"age\"                    :         \"INTEGER\",\n",
    "    \"gender\"                  :        \"VARCHAR(10)\",\n",
    "    \"job_type\"                 :       \"VARCHAR(30)\",\n",
    "    \"daily_social_media_time\"   :      \"NUMERIC(5,1)\",   \n",
    "    \"social_platform_preference\" :     \"VARCHAR(20)\",\n",
    "    \"number_of_notifications\"     :    \"INTEGER\",\n",
    "    \"work_hours_per_day\"           :   \"NUMERIC(4,1)\",\n",
    "    \"perceived_productivity_score\"  :  \"NUMERIC(4,1)\",\n",
    "    \"actual_productivity_score\"      : \"NUMERIC(4,1)\",\n",
    "    \"stress_level\"                   : \"NUMERIC(4,1)\",\n",
    "    \"sleep_hours\"                    : \"NUMERIC(4,1)\",\n",
    "    \"screen_time_before_sleep\"        :\"NUMERIC(4,1)\",\n",
    "    \"breaks_during_work\"             : \"INTEGER\",\n",
    "    \"uses_focus_apps\"                : \"BOOLEAN\",\n",
    "    \"has_digital_wellbeing_enabled\"  : \"BOOLEAN\",\n",
    "    \"coffee_consumption_per_day\"      : \"INTEGER\",\n",
    "    \"days_feeling_burnout_per_month\"  : \"INTEGER\",\n",
    "    \"weekly_offline_hours\"            : \"NUMERIC(4,1)\",\n",
    "    \"job_satisfaction_score\"          :\"NUMERIC(4,1)\"\n",
    "    }, table_name= \"Cleaned_social_media_data\", conn= conn)\n"
   ]
  },
  {
   "cell_type": "code",
   "execution_count": 41,
   "id": "635fc22b",
   "metadata": {},
   "outputs": [
    {
     "name": "stdout",
     "output_type": "stream",
     "text": [
      "🚀 Inserted 29,873 rows into Cleaned_social_media_data\n"
     ]
    },
    {
     "data": {
      "text/plain": [
       "29873"
      ]
     },
     "execution_count": 41,
     "metadata": {},
     "output_type": "execute_result"
    }
   ],
   "source": [
    "push_dataframe(conn= conn , df= fixed_outlier_data, table_name= 'Cleaned_social_media_data')"
   ]
  },
  {
   "cell_type": "code",
   "execution_count": null,
   "id": "60c4a37c",
   "metadata": {},
   "outputs": [],
   "source": []
  }
 ],
 "metadata": {
  "kernelspec": {
   "display_name": "myenv",
   "language": "python",
   "name": "python3"
  },
  "language_info": {
   "codemirror_mode": {
    "name": "ipython",
    "version": 3
   },
   "file_extension": ".py",
   "mimetype": "text/x-python",
   "name": "python",
   "nbconvert_exporter": "python",
   "pygments_lexer": "ipython3",
   "version": "3.12.3"
  }
 },
 "nbformat": 4,
 "nbformat_minor": 5
}
